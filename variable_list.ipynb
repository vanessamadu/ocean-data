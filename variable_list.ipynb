{
 "cells": [
  {
   "cell_type": "markdown",
   "metadata": {},
   "source": [
    "# Exploring Variables\n",
    "\n",
    "Original Variables:\n",
    "- geostrophic velocity anomalies\n",
    "- wind speed\n",
    "- wind stress\n",
    "\n",
    "Options to Explore:\n",
    "\n",
    "- geostrophic velocity error bars from CMEMS gridded level 3 product\n",
    "- cyclostrophic adjustments to the velocities due to the centrifugal term\n",
    "- SST gradient \n",
    "- mixed layer depth \n",
    "- bathymetry\n",
    "- drogue status "
   ]
  },
  {
   "cell_type": "code",
   "execution_count": 2,
   "metadata": {},
   "outputs": [],
   "source": [
    "import copernicusmarine\n",
    "import xarray as xr"
   ]
  },
  {
   "cell_type": "code",
   "execution_count": null,
   "metadata": {},
   "outputs": [],
   "source": []
  }
 ],
 "metadata": {
  "kernelspec": {
   "display_name": "base",
   "language": "python",
   "name": "python3"
  },
  "language_info": {
   "codemirror_mode": {
    "name": "ipython",
    "version": 3
   },
   "file_extension": ".py",
   "mimetype": "text/x-python",
   "name": "python",
   "nbconvert_exporter": "python",
   "pygments_lexer": "ipython3",
   "version": "3.11.5"
  }
 },
 "nbformat": 4,
 "nbformat_minor": 2
}
